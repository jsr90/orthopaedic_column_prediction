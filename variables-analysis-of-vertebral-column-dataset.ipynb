{
 "cells": [
  {
   "cell_type": "markdown",
   "id": "35fe4adb",
   "metadata": {
    "_cell_guid": "b1076dfc-b9ad-4769-8c92-a6c4dae69d19",
    "_uuid": "8f2839f25d086af736a60e9eeb907d3b93b6e0e5",
    "execution": {
     "iopub.execute_input": "2022-07-22T19:56:17.592687Z",
     "iopub.status.busy": "2022-07-22T19:56:17.592387Z",
     "iopub.status.idle": "2022-07-22T19:56:17.598141Z",
     "shell.execute_reply": "2022-07-22T19:56:17.596370Z",
     "shell.execute_reply.started": "2022-07-22T19:56:17.592659Z"
    },
    "papermill": {
     "duration": 0.006926,
     "end_time": "2022-07-23T15:29:08.366283",
     "exception": false,
     "start_time": "2022-07-23T15:29:08.359357",
     "status": "completed"
    },
    "tags": []
   },
   "source": [
    "# **Variables Analysis of Vertebral Column Dataset**"
   ]
  },
  {
   "cell_type": "markdown",
   "id": "437cc83b",
   "metadata": {
    "papermill": {
     "duration": 0.006485,
     "end_time": "2022-07-23T15:29:08.379681",
     "exception": false,
     "start_time": "2022-07-23T15:29:08.373196",
     "status": "completed"
    },
    "tags": []
   },
   "source": [
    "## Reading dataset and getting global information"
   ]
  },
  {
   "cell_type": "code",
   "execution_count": 42,
   "id": "6dc767cb",
   "metadata": {
    "execution": {
     "iopub.execute_input": "2022-07-23T15:29:08.394235Z",
     "iopub.status.busy": "2022-07-23T15:29:08.393691Z",
     "iopub.status.idle": "2022-07-23T15:29:09.739997Z",
     "shell.execute_reply": "2022-07-23T15:29:09.738287Z"
    },
    "papermill": {
     "duration": 1.357492,
     "end_time": "2022-07-23T15:29:09.743317",
     "exception": false,
     "start_time": "2022-07-23T15:29:08.385825",
     "status": "completed"
    },
    "tags": []
   },
   "outputs": [],
   "source": [
    "# Import needed packages\n",
    "import pandas as pd\n",
    "import numpy as np\n",
    "import matplotlib.pyplot as plt\n",
    "import seaborn as sns"
   ]
  },
  {
   "cell_type": "code",
   "execution_count": 43,
   "id": "eb7c7cf3",
   "metadata": {
    "execution": {
     "iopub.execute_input": "2022-07-23T15:29:09.757003Z",
     "iopub.status.busy": "2022-07-23T15:29:09.756556Z",
     "iopub.status.idle": "2022-07-23T15:29:09.799841Z",
     "shell.execute_reply": "2022-07-23T15:29:09.798015Z"
    },
    "papermill": {
     "duration": 0.053608,
     "end_time": "2022-07-23T15:29:09.802991",
     "exception": false,
     "start_time": "2022-07-23T15:29:09.749383",
     "status": "completed"
    },
    "tags": []
   },
   "outputs": [
    {
     "data": {
      "text/html": [
       "<div>\n",
       "<style scoped>\n",
       "    .dataframe tbody tr th:only-of-type {\n",
       "        vertical-align: middle;\n",
       "    }\n",
       "\n",
       "    .dataframe tbody tr th {\n",
       "        vertical-align: top;\n",
       "    }\n",
       "\n",
       "    .dataframe thead th {\n",
       "        text-align: right;\n",
       "    }\n",
       "</style>\n",
       "<table border=\"1\" class=\"dataframe\">\n",
       "  <thead>\n",
       "    <tr style=\"text-align: right;\">\n",
       "      <th></th>\n",
       "      <th>pelvic incidence</th>\n",
       "      <th>pelvic tilt</th>\n",
       "      <th>lumbar lordosis angle</th>\n",
       "      <th>sacral slope</th>\n",
       "      <th>pelvic radius</th>\n",
       "      <th>grade of spondylolisthesis</th>\n",
       "      <th>Class_att</th>\n",
       "    </tr>\n",
       "  </thead>\n",
       "  <tbody>\n",
       "    <tr>\n",
       "      <th>0</th>\n",
       "      <td>63.027817</td>\n",
       "      <td>22.552586</td>\n",
       "      <td>39.609117</td>\n",
       "      <td>40.475232</td>\n",
       "      <td>98.672917</td>\n",
       "      <td>-0.254400</td>\n",
       "      <td>Abnormal</td>\n",
       "    </tr>\n",
       "    <tr>\n",
       "      <th>1</th>\n",
       "      <td>39.056951</td>\n",
       "      <td>10.060991</td>\n",
       "      <td>25.015378</td>\n",
       "      <td>28.995960</td>\n",
       "      <td>114.405425</td>\n",
       "      <td>4.564259</td>\n",
       "      <td>Abnormal</td>\n",
       "    </tr>\n",
       "    <tr>\n",
       "      <th>2</th>\n",
       "      <td>68.832021</td>\n",
       "      <td>22.218482</td>\n",
       "      <td>50.092194</td>\n",
       "      <td>46.613539</td>\n",
       "      <td>105.985135</td>\n",
       "      <td>-3.530317</td>\n",
       "      <td>Abnormal</td>\n",
       "    </tr>\n",
       "    <tr>\n",
       "      <th>3</th>\n",
       "      <td>69.297008</td>\n",
       "      <td>24.652878</td>\n",
       "      <td>44.311238</td>\n",
       "      <td>44.644130</td>\n",
       "      <td>101.868495</td>\n",
       "      <td>11.211523</td>\n",
       "      <td>Abnormal</td>\n",
       "    </tr>\n",
       "    <tr>\n",
       "      <th>4</th>\n",
       "      <td>49.712859</td>\n",
       "      <td>9.652075</td>\n",
       "      <td>28.317406</td>\n",
       "      <td>40.060784</td>\n",
       "      <td>108.168725</td>\n",
       "      <td>7.918501</td>\n",
       "      <td>Abnormal</td>\n",
       "    </tr>\n",
       "  </tbody>\n",
       "</table>\n",
       "</div>"
      ],
      "text/plain": [
       "   pelvic incidence   pelvic tilt   lumbar lordosis angle   sacral slope  \\\n",
       "0         63.027817     22.552586               39.609117      40.475232   \n",
       "1         39.056951     10.060991               25.015378      28.995960   \n",
       "2         68.832021     22.218482               50.092194      46.613539   \n",
       "3         69.297008     24.652878               44.311238      44.644130   \n",
       "4         49.712859      9.652075               28.317406      40.060784   \n",
       "\n",
       "    pelvic radius   grade of spondylolisthesis Class_att  \n",
       "0       98.672917                    -0.254400  Abnormal  \n",
       "1      114.405425                     4.564259  Abnormal  \n",
       "2      105.985135                    -3.530317  Abnormal  \n",
       "3      101.868495                    11.211523  Abnormal  \n",
       "4      108.168725                     7.918501  Abnormal  "
      ]
     },
     "execution_count": 43,
     "metadata": {},
     "output_type": "execute_result"
    }
   ],
   "source": [
    "# Use pandas to read csv file and show top 5 rows\n",
    "dir = 'data/Dataset_spine.csv'\n",
    "my_data = pd.read_csv(dir)\n",
    "my_data.head()"
   ]
  },
  {
   "cell_type": "code",
   "execution_count": 44,
   "id": "90167558",
   "metadata": {
    "execution": {
     "iopub.execute_input": "2022-07-23T15:29:09.818276Z",
     "iopub.status.busy": "2022-07-23T15:29:09.817528Z",
     "iopub.status.idle": "2022-07-23T15:29:09.866471Z",
     "shell.execute_reply": "2022-07-23T15:29:09.864910Z"
    },
    "papermill": {
     "duration": 0.05963,
     "end_time": "2022-07-23T15:29:09.869232",
     "exception": false,
     "start_time": "2022-07-23T15:29:09.809602",
     "status": "completed"
    },
    "tags": []
   },
   "outputs": [
    {
     "data": {
      "text/html": [
       "<div>\n",
       "<style scoped>\n",
       "    .dataframe tbody tr th:only-of-type {\n",
       "        vertical-align: middle;\n",
       "    }\n",
       "\n",
       "    .dataframe tbody tr th {\n",
       "        vertical-align: top;\n",
       "    }\n",
       "\n",
       "    .dataframe thead th {\n",
       "        text-align: right;\n",
       "    }\n",
       "</style>\n",
       "<table border=\"1\" class=\"dataframe\">\n",
       "  <thead>\n",
       "    <tr style=\"text-align: right;\">\n",
       "      <th></th>\n",
       "      <th>pelvic incidence</th>\n",
       "      <th>pelvic tilt</th>\n",
       "      <th>lumbar lordosis angle</th>\n",
       "      <th>sacral slope</th>\n",
       "      <th>pelvic radius</th>\n",
       "      <th>grade of spondylolisthesis</th>\n",
       "    </tr>\n",
       "  </thead>\n",
       "  <tbody>\n",
       "    <tr>\n",
       "      <th>count</th>\n",
       "      <td>310.000000</td>\n",
       "      <td>310.000000</td>\n",
       "      <td>310.000000</td>\n",
       "      <td>310.000000</td>\n",
       "      <td>310.000000</td>\n",
       "      <td>310.000000</td>\n",
       "    </tr>\n",
       "    <tr>\n",
       "      <th>mean</th>\n",
       "      <td>60.496653</td>\n",
       "      <td>17.542822</td>\n",
       "      <td>51.930930</td>\n",
       "      <td>42.953831</td>\n",
       "      <td>117.920655</td>\n",
       "      <td>26.296694</td>\n",
       "    </tr>\n",
       "    <tr>\n",
       "      <th>std</th>\n",
       "      <td>17.236520</td>\n",
       "      <td>10.008330</td>\n",
       "      <td>18.554064</td>\n",
       "      <td>13.423102</td>\n",
       "      <td>13.317377</td>\n",
       "      <td>37.559027</td>\n",
       "    </tr>\n",
       "    <tr>\n",
       "      <th>min</th>\n",
       "      <td>26.147921</td>\n",
       "      <td>-6.554948</td>\n",
       "      <td>14.000000</td>\n",
       "      <td>13.366931</td>\n",
       "      <td>70.082575</td>\n",
       "      <td>-11.058179</td>\n",
       "    </tr>\n",
       "    <tr>\n",
       "      <th>25%</th>\n",
       "      <td>46.430294</td>\n",
       "      <td>10.667069</td>\n",
       "      <td>37.000000</td>\n",
       "      <td>33.347122</td>\n",
       "      <td>110.709196</td>\n",
       "      <td>1.603727</td>\n",
       "    </tr>\n",
       "    <tr>\n",
       "      <th>50%</th>\n",
       "      <td>58.691038</td>\n",
       "      <td>16.357689</td>\n",
       "      <td>49.562398</td>\n",
       "      <td>42.404912</td>\n",
       "      <td>118.268178</td>\n",
       "      <td>11.767934</td>\n",
       "    </tr>\n",
       "    <tr>\n",
       "      <th>75%</th>\n",
       "      <td>72.877696</td>\n",
       "      <td>22.120395</td>\n",
       "      <td>63.000000</td>\n",
       "      <td>52.695888</td>\n",
       "      <td>125.467674</td>\n",
       "      <td>41.287352</td>\n",
       "    </tr>\n",
       "    <tr>\n",
       "      <th>max</th>\n",
       "      <td>129.834041</td>\n",
       "      <td>49.431864</td>\n",
       "      <td>125.742385</td>\n",
       "      <td>121.429566</td>\n",
       "      <td>163.071041</td>\n",
       "      <td>418.543082</td>\n",
       "    </tr>\n",
       "  </tbody>\n",
       "</table>\n",
       "</div>"
      ],
      "text/plain": [
       "       pelvic incidence   pelvic tilt   lumbar lordosis angle   sacral slope  \\\n",
       "count        310.000000    310.000000              310.000000     310.000000   \n",
       "mean          60.496653     17.542822               51.930930      42.953831   \n",
       "std           17.236520     10.008330               18.554064      13.423102   \n",
       "min           26.147921     -6.554948               14.000000      13.366931   \n",
       "25%           46.430294     10.667069               37.000000      33.347122   \n",
       "50%           58.691038     16.357689               49.562398      42.404912   \n",
       "75%           72.877696     22.120395               63.000000      52.695888   \n",
       "max          129.834041     49.431864              125.742385     121.429566   \n",
       "\n",
       "        pelvic radius   grade of spondylolisthesis  \n",
       "count      310.000000                   310.000000  \n",
       "mean       117.920655                    26.296694  \n",
       "std         13.317377                    37.559027  \n",
       "min         70.082575                   -11.058179  \n",
       "25%        110.709196                     1.603727  \n",
       "50%        118.268178                    11.767934  \n",
       "75%        125.467674                    41.287352  \n",
       "max        163.071041                   418.543082  "
      ]
     },
     "execution_count": 44,
     "metadata": {},
     "output_type": "execute_result"
    }
   ],
   "source": [
    "# get descriptive statistics summary\n",
    "my_data.describe()"
   ]
  },
  {
   "cell_type": "markdown",
   "id": "1357e6ab",
   "metadata": {
    "papermill": {
     "duration": 0.00623,
     "end_time": "2022-07-23T15:29:09.882231",
     "exception": false,
     "start_time": "2022-07-23T15:29:09.876001",
     "status": "completed"
    },
    "tags": []
   },
   "source": [
    "## Plotting numerical variables"
   ]
  },
  {
   "cell_type": "code",
   "execution_count": 45,
   "id": "e3fabea7",
   "metadata": {
    "execution": {
     "iopub.execute_input": "2022-07-23T15:29:09.897369Z",
     "iopub.status.busy": "2022-07-23T15:29:09.896927Z",
     "iopub.status.idle": "2022-07-23T15:29:10.854487Z",
     "shell.execute_reply": "2022-07-23T15:29:10.852789Z"
    },
    "papermill": {
     "duration": 0.968757,
     "end_time": "2022-07-23T15:29:10.857646",
     "exception": false,
     "start_time": "2022-07-23T15:29:09.888889",
     "status": "completed"
    },
    "tags": []
   },
   "outputs": [
    {
     "data": {
      "image/png": "[encoded data removed]",
      "text/plain": [
       "<Figure size 1080x1080 with 6 Axes>"
      ]
     },
     "metadata": {},
     "output_type": "display_data"
    }
   ],
   "source": [
    "# Define a function to plot each variable (only valid for n_rows > 1)\n",
    "def boxplot(my_data, n_rows, n_cols):\n",
    "    # my_data: dataset to plot\n",
    "    # n_row: number of rows of the graph\n",
    "    # n_cols: number of columns of the graph\n",
    "    sns.set()\n",
    "    fig, axes = plt.subplots(n_rows, n_cols, figsize=(15, 15))\n",
    "\n",
    "    col = 0\n",
    "    row = 0\n",
    "    # col and row defines the position of the subplot in the graph\n",
    "    for column in my_data.columns[:-1]:\n",
    "        sns.boxplot(data=my_data, x=column, hue='Class_att', ax=axes[col, row])\n",
    "        if (row<n_rows):\n",
    "            row=row+1\n",
    "        elif (row==n_rows):\n",
    "            row=0\n",
    "            col=col+1\n",
    "        else: print('Invalid arguments!')\n",
    "\n",
    "boxplot(my_data, 2, 3)"
   ]
  },
  {
   "cell_type": "markdown",
   "id": "45ebab0b",
   "metadata": {
    "papermill": {
     "duration": 0.006945,
     "end_time": "2022-07-23T15:29:10.872566",
     "exception": false,
     "start_time": "2022-07-23T15:29:10.865621",
     "status": "completed"
    },
    "tags": []
   },
   "source": [
    "The last subplot makes me think that there is at least one outlier. Let's verify it!"
   ]
  },
  {
   "cell_type": "markdown",
   "id": "413aaa65",
   "metadata": {
    "papermill": {
     "duration": 0.006897,
     "end_time": "2022-07-23T15:29:10.886939",
     "exception": false,
     "start_time": "2022-07-23T15:29:10.880042",
     "status": "completed"
    },
    "tags": []
   },
   "source": [
    "## Finding outliers and NaN\n",
    "\n",
    "The next code shows a first function, that detect and replace outliers or NaN values by the column mean, because all variables are continuous. For this purpose, we are calculating lower (Q1) and upper (Q3) quartiles, so outliers are out of the range $[Q1-1.5·IQR, Q3*1.5·IQR]$, where $IQR = Q3-Q1$.\n",
    "\n",
    "The second function apply the first one iteratively, because, after a replacement, statistics can change and new outliers appear."
   ]
  },
  {
   "cell_type": "code",
   "execution_count": 46,
   "id": "b7ea1f39",
   "metadata": {
    "execution": {
     "iopub.execute_input": "2022-07-23T15:29:10.903900Z",
     "iopub.status.busy": "2022-07-23T15:29:10.903439Z",
     "iopub.status.idle": "2022-07-23T15:29:10.920775Z",
     "shell.execute_reply": "2022-07-23T15:29:10.919814Z"
    },
    "papermill": {
     "duration": 0.029211,
     "end_time": "2022-07-23T15:29:10.923141",
     "exception": false,
     "start_time": "2022-07-23T15:29:10.893930",
     "status": "completed"
    },
    "tags": []
   },
   "outputs": [],
   "source": [
    "# Define a function to find outliers and NaN values in a dataset, and replace it by the column mean.\n",
    "def find_outliers(my_data):\n",
    "    # definition of numeric types\n",
    "    numerics = ['int16', 'int32', 'int64', 'float16', 'float32', 'float64']\n",
    "\n",
    "    # Take numeric columns\n",
    "    data = my_data.select_dtypes(include=numerics)\n",
    "\n",
    "    # Take column names\n",
    "    columns = data.columns\n",
    "    \n",
    "    # Set the new dataframe\n",
    "    out = pd.DataFrame()\n",
    "\n",
    "    # Number of outliers\n",
    "    n_outliers = 0\n",
    "\n",
    "    for column in columns:\n",
    "        \"\"\"\n",
    "        For each column, calculate the lower and the upper fences.\n",
    "        Iterate each value in the column:\n",
    "            if the value is between the fences: add to the new column\n",
    "            it not: dropt it, replace with the column mean and add to the new column\n",
    "        After iteration, add column to the new dataframe. After  iterate all columns,\n",
    "        add excluded columns to the dataframe and return it and the number of outliers.\n",
    "        \"\"\"\n",
    "        Q1 = data[column].describe().describe()['25%']\n",
    "        Q3 = data[column].describe().describe()['75%']\n",
    "        IQR = Q3-Q1\n",
    "\n",
    "        lower_fence = Q1 - 1.5*IQR\n",
    "        upper_fence = Q3 + 1.5*IQR\n",
    "        \n",
    "        new_column = pd.Series(dtype='float64')\n",
    "        for idx, value in enumerate(data[column]):\n",
    "            \"\"\" This conditional statement allows us to replace either outliers or NaN values.\n",
    "            \"\"\"\n",
    "            if ((value >= lower_fence) & (value <= upper_fence)):\n",
    "                new_value = pd.Series(data=value, index=[idx])\n",
    "                new_column = pd.concat([new_column, new_value])\n",
    "            else:\n",
    "                col_mean  = np.mean(data[column].drop(idx))\n",
    "                new_value = pd.Series(data=col_mean, index=[idx])\n",
    "                new_column = pd.concat([new_column, new_value])\n",
    "                n_outliers = n_outliers + 1\n",
    "        new_column.name = column\n",
    "        new_column = pd.DataFrame(new_column)\n",
    "        out = pd.concat([out, new_column], axis=1)\n",
    "\n",
    "    excluded_columns = my_data.select_dtypes(exclude=numerics)\n",
    "    out = pd.concat([out, excluded_columns], axis=1)\n",
    "\n",
    "    return (out, n_outliers)"
   ]
  },
  {
   "cell_type": "code",
   "execution_count": 47,
   "id": "6b9b7f07",
   "metadata": {
    "execution": {
     "iopub.execute_input": "2022-07-23T15:29:10.940178Z",
     "iopub.status.busy": "2022-07-23T15:29:10.939784Z",
     "iopub.status.idle": "2022-07-23T15:29:10.947676Z",
     "shell.execute_reply": "2022-07-23T15:29:10.946089Z"
    },
    "papermill": {
     "duration": 0.019018,
     "end_time": "2022-07-23T15:29:10.950185",
     "exception": false,
     "start_time": "2022-07-23T15:29:10.931167",
     "status": "completed"
    },
    "tags": []
   },
   "outputs": [],
   "source": [
    "# Define a function to apply find_outliers() iteratively\n",
    "def replace_outliers(my_data):\n",
    "    \"\"\"\n",
    "    While the number of outliers is not equal to 0, the loop will apply the\n",
    "    function find_outliers(). \n",
    "    \"\"\"\n",
    "    data = my_data\n",
    "    n_outliers = -1\n",
    "    n_loops = 0\n",
    "    total_outliers = 0\n",
    "\n",
    "    while(n_outliers != 0):\n",
    "        data, n_outliers = find_outliers(data)\n",
    "        n_loops = n_loops+1\n",
    "        total_outliers = total_outliers + n_outliers\n",
    "        \n",
    "    print('***Found a total of '+str(total_outliers)+' outliers over '+str(n_loops)+' iterations.***\\n')\n",
    "    \n",
    "    return data"
   ]
  },
  {
   "cell_type": "markdown",
   "id": "9b34e2d7",
   "metadata": {
    "papermill": {
     "duration": 0.006498,
     "end_time": "2022-07-23T15:29:10.963631",
     "exception": false,
     "start_time": "2022-07-23T15:29:10.957133",
     "status": "completed"
    },
    "tags": []
   },
   "source": [
    "Finnaly, save the new dataset into a new variable and show its summary:"
   ]
  },
  {
   "cell_type": "code",
   "execution_count": 48,
   "id": "03d56632",
   "metadata": {
    "execution": {
     "iopub.execute_input": "2022-07-23T15:29:10.979911Z",
     "iopub.status.busy": "2022-07-23T15:29:10.979245Z",
     "iopub.status.idle": "2022-07-23T15:29:12.474266Z",
     "shell.execute_reply": "2022-07-23T15:29:12.472630Z"
    },
    "papermill": {
     "duration": 1.507147,
     "end_time": "2022-07-23T15:29:12.477828",
     "exception": false,
     "start_time": "2022-07-23T15:29:10.970681",
     "status": "completed"
    },
    "tags": []
   },
   "outputs": [
    {
     "name": "stdout",
     "output_type": "stream",
     "text": [
      "***Found a total of 1 outliers over 2 iterations.***\n",
      "\n"
     ]
    },
    {
     "data": {
      "text/html": [
       "<div>\n",
       "<style scoped>\n",
       "    .dataframe tbody tr th:only-of-type {\n",
       "        vertical-align: middle;\n",
       "    }\n",
       "\n",
       "    .dataframe tbody tr th {\n",
       "        vertical-align: top;\n",
       "    }\n",
       "\n",
       "    .dataframe thead th {\n",
       "        text-align: right;\n",
       "    }\n",
       "</style>\n",
       "<table border=\"1\" class=\"dataframe\">\n",
       "  <thead>\n",
       "    <tr style=\"text-align: right;\">\n",
       "      <th></th>\n",
       "      <th>pelvic incidence</th>\n",
       "      <th>pelvic tilt</th>\n",
       "      <th>lumbar lordosis angle</th>\n",
       "      <th>sacral slope</th>\n",
       "      <th>pelvic radius</th>\n",
       "      <th>grade of spondylolisthesis</th>\n",
       "    </tr>\n",
       "  </thead>\n",
       "  <tbody>\n",
       "    <tr>\n",
       "      <th>count</th>\n",
       "      <td>310.000000</td>\n",
       "      <td>310.000000</td>\n",
       "      <td>310.000000</td>\n",
       "      <td>310.000000</td>\n",
       "      <td>310.000000</td>\n",
       "      <td>310.000000</td>\n",
       "    </tr>\n",
       "    <tr>\n",
       "      <th>mean</th>\n",
       "      <td>60.496653</td>\n",
       "      <td>17.542822</td>\n",
       "      <td>51.930930</td>\n",
       "      <td>42.953831</td>\n",
       "      <td>117.920655</td>\n",
       "      <td>25.027289</td>\n",
       "    </tr>\n",
       "    <tr>\n",
       "      <th>std</th>\n",
       "      <td>17.236520</td>\n",
       "      <td>10.008330</td>\n",
       "      <td>18.554064</td>\n",
       "      <td>13.423102</td>\n",
       "      <td>13.317377</td>\n",
       "      <td>30.185249</td>\n",
       "    </tr>\n",
       "    <tr>\n",
       "      <th>min</th>\n",
       "      <td>26.147921</td>\n",
       "      <td>-6.554948</td>\n",
       "      <td>14.000000</td>\n",
       "      <td>13.366931</td>\n",
       "      <td>70.082575</td>\n",
       "      <td>-11.058179</td>\n",
       "    </tr>\n",
       "    <tr>\n",
       "      <th>25%</th>\n",
       "      <td>46.430294</td>\n",
       "      <td>10.667069</td>\n",
       "      <td>37.000000</td>\n",
       "      <td>33.347122</td>\n",
       "      <td>110.709196</td>\n",
       "      <td>1.603727</td>\n",
       "    </tr>\n",
       "    <tr>\n",
       "      <th>50%</th>\n",
       "      <td>58.691038</td>\n",
       "      <td>16.357689</td>\n",
       "      <td>49.562398</td>\n",
       "      <td>42.404912</td>\n",
       "      <td>118.268178</td>\n",
       "      <td>11.767934</td>\n",
       "    </tr>\n",
       "    <tr>\n",
       "      <th>75%</th>\n",
       "      <td>72.877696</td>\n",
       "      <td>22.120395</td>\n",
       "      <td>63.000000</td>\n",
       "      <td>52.695888</td>\n",
       "      <td>125.467674</td>\n",
       "      <td>40.788437</td>\n",
       "    </tr>\n",
       "    <tr>\n",
       "      <th>max</th>\n",
       "      <td>129.834041</td>\n",
       "      <td>49.431864</td>\n",
       "      <td>125.742385</td>\n",
       "      <td>121.429566</td>\n",
       "      <td>163.071041</td>\n",
       "      <td>148.753711</td>\n",
       "    </tr>\n",
       "  </tbody>\n",
       "</table>\n",
       "</div>"
      ],
      "text/plain": [
       "       pelvic incidence   pelvic tilt   lumbar lordosis angle   sacral slope  \\\n",
       "count        310.000000    310.000000              310.000000     310.000000   \n",
       "mean          60.496653     17.542822               51.930930      42.953831   \n",
       "std           17.236520     10.008330               18.554064      13.423102   \n",
       "min           26.147921     -6.554948               14.000000      13.366931   \n",
       "25%           46.430294     10.667069               37.000000      33.347122   \n",
       "50%           58.691038     16.357689               49.562398      42.404912   \n",
       "75%           72.877696     22.120395               63.000000      52.695888   \n",
       "max          129.834041     49.431864              125.742385     121.429566   \n",
       "\n",
       "        pelvic radius   grade of spondylolisthesis  \n",
       "count      310.000000                   310.000000  \n",
       "mean       117.920655                    25.027289  \n",
       "std         13.317377                    30.185249  \n",
       "min         70.082575                   -11.058179  \n",
       "25%        110.709196                     1.603727  \n",
       "50%        118.268178                    11.767934  \n",
       "75%        125.467674                    40.788437  \n",
       "max        163.071041                   148.753711  "
      ]
     },
     "execution_count": 48,
     "metadata": {},
     "output_type": "execute_result"
    }
   ],
   "source": [
    "new_data = replace_outliers(my_data)\n",
    "new_data.describe()"
   ]
  },
  {
   "cell_type": "markdown",
   "id": "79fb45c8",
   "metadata": {
    "papermill": {
     "duration": 0.007361,
     "end_time": "2022-07-23T15:29:12.492615",
     "exception": false,
     "start_time": "2022-07-23T15:29:12.485254",
     "status": "completed"
    },
    "tags": []
   },
   "source": [
    "## Plotting new data"
   ]
  },
  {
   "cell_type": "code",
   "execution_count": 49,
   "id": "038557c1",
   "metadata": {
    "execution": {
     "iopub.execute_input": "2022-07-23T15:29:12.510724Z",
     "iopub.status.busy": "2022-07-23T15:29:12.509948Z",
     "iopub.status.idle": "2022-07-23T15:29:13.403880Z",
     "shell.execute_reply": "2022-07-23T15:29:13.403030Z"
    },
    "papermill": {
     "duration": 0.905737,
     "end_time": "2022-07-23T15:29:13.406298",
     "exception": false,
     "start_time": "2022-07-23T15:29:12.500561",
     "status": "completed"
    },
    "tags": []
   },
   "outputs": [
    {
     "data": {
      "image/png": "[encoded data removed]",
      "text/plain": [
       "<Figure size 1080x1080 with 6 Axes>"
      ]
     },
     "metadata": {},
     "output_type": "display_data"
    }
   ],
   "source": [
    "boxplot(new_data, 2, 3)"
   ]
  },
  {
   "cell_type": "markdown",
   "id": "fb9f3c9a",
   "metadata": {
    "papermill": {
     "duration": 0.007563,
     "end_time": "2022-07-23T15:29:13.422180",
     "exception": false,
     "start_time": "2022-07-23T15:29:13.414617",
     "status": "completed"
    },
    "tags": []
   },
   "source": [
    "The last subplot has changed and doesn't show the outlier. Now, we have a new dataset ready to use."
   ]
  },
  {
   "cell_type": "markdown",
   "id": "5c773fdf",
   "metadata": {},
   "source": [
    "## Store data"
   ]
  },
  {
   "cell_type": "code",
   "execution_count": 50,
   "id": "70cea35c",
   "metadata": {},
   "outputs": [],
   "source": [
    "from pathlib import Path  \n",
    "filepath = Path('data/data.csv')  \n",
    "filepath.parent.mkdir(parents=True, exist_ok=True)  \n",
    "new_data.to_csv(filepath, index=False)"
   ]
  }
 ],
 "metadata": {
  "kernelspec": {
   "display_name": "Python 3.10.4 64-bit",
   "language": "python",
   "name": "python3"
  },
  "language_info": {
   "codemirror_mode": {
    "name": "ipython",
    "version": 3
   },
   "file_extension": ".py",
   "mimetype": "text/x-python",
   "name": "python",
   "nbconvert_exporter": "python",
   "pygments_lexer": "ipython3",
   "version": "3.10.4"
  },
  "papermill": {
   "default_parameters": {},
   "duration": 19.193287,
   "end_time": "2022-07-23T15:29:14.553334",
   "environment_variables": {},
   "exception": null,
   "input_path": "__notebook__.ipynb",
   "output_path": "__notebook__.ipynb",
   "parameters": {},
   "start_time": "2022-07-23T15:28:55.360047",
   "version": "2.3.4"
  },
  "vscode": {
   "interpreter": {
    "hash": "916dbcbb3f70747c44a77c7bcd40155683ae19c65e1c03b4aa3499c5328201f1"
   }
  }
 },
 "nbformat": 4,
 "nbformat_minor": 5
}
