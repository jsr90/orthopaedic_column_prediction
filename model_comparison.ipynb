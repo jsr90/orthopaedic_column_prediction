{
 "cells": [
  {
   "cell_type": "markdown",
   "metadata": {},
   "source": [
    "# Model Comparison using SciKit-learn K-Fold Cross Validation"
   ]
  },
  {
   "cell_type": "markdown",
   "metadata": {},
   "source": [
    "In this example, I will train the [Vertebral Column Dataset](https://www.kaggle.com/datasets/jessanrod3/vertebralcolumndataset) and compare accuracies using 6 methods: logistic regression, k-nearest neighbors, support-vector machine, naive bayes, decission tree and random forest. "
   ]
  },
  {
   "cell_type": "markdown",
   "metadata": {},
   "source": [
    "## 1. Data description"
   ]
  },
  {
   "cell_type": "code",
   "execution_count": 3,
   "metadata": {},
   "outputs": [],
   "source": [
    "# Import needed libraries\n",
    "import pandas as pd\n",
    "import numpy as np\n",
    "import matplotlib.pyplot as plt\n",
    "import seaborn as sns\n",
    "import warnings\n",
    "warnings.filterwarnings('ignore') # hides warnings to get proper outputs"
   ]
  },
  {
   "cell_type": "code",
   "execution_count": 4,
   "metadata": {
    "colab": {
     "base_uri": "https://localhost:8080/",
     "height": 270
    },
    "id": "tcShRrMU85pO",
    "outputId": "88eb1f79-6d2e-4e4d-99e5-293864c979e5"
   },
   "outputs": [
    {
     "data": {
      "text/html": [
       "<div>\n",
       "<style scoped>\n",
       "    .dataframe tbody tr th:only-of-type {\n",
       "        vertical-align: middle;\n",
       "    }\n",
       "\n",
       "    .dataframe tbody tr th {\n",
       "        vertical-align: top;\n",
       "    }\n",
       "\n",
       "    .dataframe thead th {\n",
       "        text-align: right;\n",
       "    }\n",
       "</style>\n",
       "<table border=\"1\" class=\"dataframe\">\n",
       "  <thead>\n",
       "    <tr style=\"text-align: right;\">\n",
       "      <th></th>\n",
       "      <th>pelvic incidence</th>\n",
       "      <th>pelvic tilt</th>\n",
       "      <th>lumbar lordosis angle</th>\n",
       "      <th>sacral slope</th>\n",
       "      <th>pelvic radius</th>\n",
       "      <th>grade of spondylolisthesis</th>\n",
       "      <th>Class_att</th>\n",
       "    </tr>\n",
       "  </thead>\n",
       "  <tbody>\n",
       "    <tr>\n",
       "      <th>0</th>\n",
       "      <td>63.027817</td>\n",
       "      <td>22.552586</td>\n",
       "      <td>39.609117</td>\n",
       "      <td>40.475232</td>\n",
       "      <td>98.672917</td>\n",
       "      <td>-0.254400</td>\n",
       "      <td>Abnormal</td>\n",
       "    </tr>\n",
       "    <tr>\n",
       "      <th>1</th>\n",
       "      <td>39.056951</td>\n",
       "      <td>10.060991</td>\n",
       "      <td>25.015378</td>\n",
       "      <td>28.995960</td>\n",
       "      <td>114.405425</td>\n",
       "      <td>4.564259</td>\n",
       "      <td>Abnormal</td>\n",
       "    </tr>\n",
       "    <tr>\n",
       "      <th>2</th>\n",
       "      <td>68.832021</td>\n",
       "      <td>22.218482</td>\n",
       "      <td>50.092194</td>\n",
       "      <td>46.613539</td>\n",
       "      <td>105.985135</td>\n",
       "      <td>-3.530317</td>\n",
       "      <td>Abnormal</td>\n",
       "    </tr>\n",
       "    <tr>\n",
       "      <th>3</th>\n",
       "      <td>69.297008</td>\n",
       "      <td>24.652878</td>\n",
       "      <td>44.311238</td>\n",
       "      <td>44.644130</td>\n",
       "      <td>101.868495</td>\n",
       "      <td>11.211523</td>\n",
       "      <td>Abnormal</td>\n",
       "    </tr>\n",
       "    <tr>\n",
       "      <th>4</th>\n",
       "      <td>49.712859</td>\n",
       "      <td>9.652075</td>\n",
       "      <td>28.317406</td>\n",
       "      <td>40.060784</td>\n",
       "      <td>108.168725</td>\n",
       "      <td>7.918501</td>\n",
       "      <td>Abnormal</td>\n",
       "    </tr>\n",
       "  </tbody>\n",
       "</table>\n",
       "</div>"
      ],
      "text/plain": [
       "   pelvic incidence   pelvic tilt   lumbar lordosis angle   sacral slope  \\\n",
       "0         63.027817     22.552586               39.609117      40.475232   \n",
       "1         39.056951     10.060991               25.015378      28.995960   \n",
       "2         68.832021     22.218482               50.092194      46.613539   \n",
       "3         69.297008     24.652878               44.311238      44.644130   \n",
       "4         49.712859      9.652075               28.317406      40.060784   \n",
       "\n",
       "    pelvic radius   grade of spondylolisthesis Class_att  \n",
       "0       98.672917                    -0.254400  Abnormal  \n",
       "1      114.405425                     4.564259  Abnormal  \n",
       "2      105.985135                    -3.530317  Abnormal  \n",
       "3      101.868495                    11.211523  Abnormal  \n",
       "4      108.168725                     7.918501  Abnormal  "
      ]
     },
     "execution_count": 4,
     "metadata": {},
     "output_type": "execute_result"
    }
   ],
   "source": [
    "# read dataset and show 5 first lines\n",
    "dataset = pd.read_csv('data/data.csv')\n",
    "dataset.head()"
   ]
  },
  {
   "cell_type": "code",
   "execution_count": 5,
   "metadata": {
    "colab": {
     "base_uri": "https://localhost:8080/",
     "height": 364
    },
    "id": "2PqQg99J9FTO",
    "outputId": "0e075b11-658c-476f-b759-bbc9917b5812"
   },
   "outputs": [
    {
     "data": {
      "text/html": [
       "<div>\n",
       "<style scoped>\n",
       "    .dataframe tbody tr th:only-of-type {\n",
       "        vertical-align: middle;\n",
       "    }\n",
       "\n",
       "    .dataframe tbody tr th {\n",
       "        vertical-align: top;\n",
       "    }\n",
       "\n",
       "    .dataframe thead th {\n",
       "        text-align: right;\n",
       "    }\n",
       "</style>\n",
       "<table border=\"1\" class=\"dataframe\">\n",
       "  <thead>\n",
       "    <tr style=\"text-align: right;\">\n",
       "      <th></th>\n",
       "      <th>pelvic incidence</th>\n",
       "      <th>pelvic tilt</th>\n",
       "      <th>lumbar lordosis angle</th>\n",
       "      <th>sacral slope</th>\n",
       "      <th>pelvic radius</th>\n",
       "      <th>grade of spondylolisthesis</th>\n",
       "    </tr>\n",
       "  </thead>\n",
       "  <tbody>\n",
       "    <tr>\n",
       "      <th>count</th>\n",
       "      <td>310.000000</td>\n",
       "      <td>310.000000</td>\n",
       "      <td>310.000000</td>\n",
       "      <td>310.000000</td>\n",
       "      <td>310.000000</td>\n",
       "      <td>310.000000</td>\n",
       "    </tr>\n",
       "    <tr>\n",
       "      <th>mean</th>\n",
       "      <td>60.496653</td>\n",
       "      <td>17.542822</td>\n",
       "      <td>51.930930</td>\n",
       "      <td>42.953831</td>\n",
       "      <td>117.920655</td>\n",
       "      <td>25.027289</td>\n",
       "    </tr>\n",
       "    <tr>\n",
       "      <th>std</th>\n",
       "      <td>17.236520</td>\n",
       "      <td>10.008330</td>\n",
       "      <td>18.554064</td>\n",
       "      <td>13.423102</td>\n",
       "      <td>13.317377</td>\n",
       "      <td>30.185249</td>\n",
       "    </tr>\n",
       "    <tr>\n",
       "      <th>min</th>\n",
       "      <td>26.147921</td>\n",
       "      <td>-6.554948</td>\n",
       "      <td>14.000000</td>\n",
       "      <td>13.366931</td>\n",
       "      <td>70.082575</td>\n",
       "      <td>-11.058179</td>\n",
       "    </tr>\n",
       "    <tr>\n",
       "      <th>25%</th>\n",
       "      <td>46.430294</td>\n",
       "      <td>10.667069</td>\n",
       "      <td>37.000000</td>\n",
       "      <td>33.347122</td>\n",
       "      <td>110.709196</td>\n",
       "      <td>1.603727</td>\n",
       "    </tr>\n",
       "    <tr>\n",
       "      <th>50%</th>\n",
       "      <td>58.691038</td>\n",
       "      <td>16.357689</td>\n",
       "      <td>49.562398</td>\n",
       "      <td>42.404912</td>\n",
       "      <td>118.268178</td>\n",
       "      <td>11.767934</td>\n",
       "    </tr>\n",
       "    <tr>\n",
       "      <th>75%</th>\n",
       "      <td>72.877696</td>\n",
       "      <td>22.120395</td>\n",
       "      <td>63.000000</td>\n",
       "      <td>52.695888</td>\n",
       "      <td>125.467674</td>\n",
       "      <td>40.788437</td>\n",
       "    </tr>\n",
       "    <tr>\n",
       "      <th>max</th>\n",
       "      <td>129.834041</td>\n",
       "      <td>49.431864</td>\n",
       "      <td>125.742385</td>\n",
       "      <td>121.429566</td>\n",
       "      <td>163.071041</td>\n",
       "      <td>148.753711</td>\n",
       "    </tr>\n",
       "  </tbody>\n",
       "</table>\n",
       "</div>"
      ],
      "text/plain": [
       "       pelvic incidence   pelvic tilt   lumbar lordosis angle   sacral slope  \\\n",
       "count        310.000000    310.000000              310.000000     310.000000   \n",
       "mean          60.496653     17.542822               51.930930      42.953831   \n",
       "std           17.236520     10.008330               18.554064      13.423102   \n",
       "min           26.147921     -6.554948               14.000000      13.366931   \n",
       "25%           46.430294     10.667069               37.000000      33.347122   \n",
       "50%           58.691038     16.357689               49.562398      42.404912   \n",
       "75%           72.877696     22.120395               63.000000      52.695888   \n",
       "max          129.834041     49.431864              125.742385     121.429566   \n",
       "\n",
       "        pelvic radius   grade of spondylolisthesis  \n",
       "count      310.000000                   310.000000  \n",
       "mean       117.920655                    25.027289  \n",
       "std         13.317377                    30.185249  \n",
       "min         70.082575                   -11.058179  \n",
       "25%        110.709196                     1.603727  \n",
       "50%        118.268178                    11.767934  \n",
       "75%        125.467674                    40.788437  \n",
       "max        163.071041                   148.753711  "
      ]
     },
     "execution_count": 5,
     "metadata": {},
     "output_type": "execute_result"
    }
   ],
   "source": [
    "# Show statistics of the dataset\n",
    "dataset.describe()"
   ]
  },
  {
   "cell_type": "markdown",
   "metadata": {},
   "source": [
    "## 2. Variables traitment\n",
    "\n",
    "The dataset is composed by 6 numerical variables and a categorical classification class. This last one will be numerically transformed so Abnormal classification will have the number 1 and Normal the number 0. After that, dataset will be divided into x, with first 6 variables, and y, with the classification variable.\n",
    "\n",
    "There are no NaN neither outliers because they have been treated previously in [VertebralColumnVariablesAnalyse](https://jsr90.github.io/VertebralColumnVariablesAnalyse/)."
   ]
  },
  {
   "cell_type": "code",
   "execution_count": 6,
   "metadata": {
    "colab": {
     "base_uri": "https://localhost:8080/"
    },
    "id": "zRkETuIM9ORe",
    "outputId": "8fd94506-9df9-42bf-ca51-b27a02ebf780"
   },
   "outputs": [
    {
     "data": {
      "text/plain": [
       "1    210\n",
       "0    100\n",
       "Name: Class_att, dtype: int64"
      ]
     },
     "execution_count": 6,
     "metadata": {},
     "output_type": "execute_result"
    }
   ],
   "source": [
    "Class_att = {'Abnormal': 1,'Normal': 0}\n",
    "\n",
    "dataset.Class_att = [Class_att[item] for item in dataset.Class_att]\n",
    "dataset.Class_att.value_counts()"
   ]
  },
  {
   "cell_type": "code",
   "execution_count": 7,
   "metadata": {
    "id": "ZHL35Hxe-5_h"
   },
   "outputs": [],
   "source": [
    "y = dataset.Class_att\n",
    "x = dataset.drop(['Class_att'], axis=1)"
   ]
  },
  {
   "cell_type": "markdown",
   "metadata": {},
   "source": [
    "## 3. Fitting model using pipeline"
   ]
  },
  {
   "cell_type": "markdown",
   "metadata": {},
   "source": [
    "### 3.1 Defining models and scores"
   ]
  },
  {
   "cell_type": "code",
   "execution_count": 8,
   "metadata": {},
   "outputs": [],
   "source": [
    "# Import needed libraries for each model\n",
    "from sklearn.linear_model import LogisticRegression\n",
    "from sklearn.neighbors import KNeighborsClassifier\n",
    "from sklearn.svm import SVC\n",
    "from sklearn.naive_bayes import GaussianNB\n",
    "from sklearn.tree import DecisionTreeClassifier\n",
    "from sklearn.ensemble import RandomForestClassifier\n",
    "\n",
    "# Define models\n",
    "lr = LogisticRegression(max_iter=10000, tol=0.1)\n",
    "knn = KNeighborsClassifier(n_neighbors=4)\n",
    "svm=SVC(random_state=42)\n",
    "nb=GaussianNB()\n",
    "dt=DecisionTreeClassifier(random_state=42)\n",
    "rf=RandomForestClassifier(n_estimators=100, random_state=42)"
   ]
  },
  {
   "cell_type": "code",
   "execution_count": 9,
   "metadata": {},
   "outputs": [],
   "source": [
    "\n",
    "from sklearn.metrics import make_scorer, accuracy_score, precision_score, recall_score\n",
    "\n",
    "# Define scoring\n",
    "scoring = {'accuracy' : make_scorer(accuracy_score), \n",
    "           'precision' : make_scorer(precision_score),\n",
    "           'recall' : make_scorer(recall_score)}"
   ]
  },
  {
   "cell_type": "markdown",
   "metadata": {},
   "source": [
    "### 3.2 Defining K-fold as Cross Validation method"
   ]
  },
  {
   "cell_type": "code",
   "execution_count": 10,
   "metadata": {
    "colab": {
     "base_uri": "https://localhost:8080/"
    },
    "id": "KLWhaAP_AHCe",
    "outputId": "4abe69d9-b857-42ec-9b85-cca10e202a1c"
   },
   "outputs": [],
   "source": [
    "from sklearn.model_selection import KFold\n",
    "\n",
    "# Set iterator to 10 splits\n",
    "kfold = KFold(n_splits=10)\n",
    "\n",
    "# Set methods objects and names\n",
    "class_method=[lr,knn,svm,nb,dt,rf]\n",
    "comparison_matrix=pd.DataFrame()\n",
    "method_name=[\"lr\",\"knn\",\"svm\",\"nb\",\"dt\",\"rf\"]"
   ]
  },
  {
   "cell_type": "markdown",
   "metadata": {},
   "source": [
    "### 3.3 Setting Pipeline\n",
    "\n",
    "Pipeline allows to preprocess data so in each iteration, standarisation is applied in both test and train datasets, using train mean and sd."
   ]
  },
  {
   "cell_type": "code",
   "execution_count": 11,
   "metadata": {},
   "outputs": [
    {
     "name": "stdout",
     "output_type": "stream",
     "text": [
      "                      lr       knn       svm        nb        dt        rf\n",
      "fit_time        0.002384  0.001556  0.002191  0.001414  0.001835  0.060354\n",
      "score_time      0.001398  0.002134  0.001495  0.001303  0.001328  0.005832\n",
      "test_accuracy   0.774194  0.719355  0.783871  0.764516  0.758065  0.767742\n",
      "test_precision  0.696000  0.695833  0.692308  0.700000  0.696000  0.692308\n",
      "test_recall     0.580645  0.499059  0.577419  0.519355  0.564516  0.583871\n"
     ]
    }
   ],
   "source": [
    "from sklearn.pipeline import make_pipeline\n",
    "from sklearn import preprocessing\n",
    "from sklearn.model_selection import cross_validate\n",
    "\n",
    "# Set an empty matrix to store every result\n",
    "comparison_matrix = pd.DataFrame()\n",
    "\n",
    "# Loop for each model\n",
    "for each in class_method:\n",
    "\n",
    "    # Set the clasifier with standarisation for each model\n",
    "    clf=make_pipeline(preprocessing.StandardScaler(), each)\n",
    "    \n",
    "    # Get results for each iteration\n",
    "    results = cross_validate(estimator=clf,\n",
    "                                              X=x,\n",
    "                                              y=y,\n",
    "                                              cv=kfold,\n",
    "                                              scoring=scoring)\n",
    "    \n",
    "    results = pd.DataFrame(results)\n",
    "\n",
    "    # Keep the mean of 10 iterations and append it to the data frame\n",
    "    results = results.mean()\n",
    "    comparison_matrix = pd.concat([comparison_matrix, results], axis=1)\n",
    "\n",
    "# Set columns names and print matrix    \n",
    "comparison_matrix.columns = method_name\n",
    "print(comparison_matrix)"
   ]
  },
  {
   "cell_type": "markdown",
   "metadata": {},
   "source": [
    "### 3.4 Plotting results"
   ]
  },
  {
   "cell_type": "code",
   "execution_count": 12,
   "metadata": {
    "colab": {
     "base_uri": "https://localhost:8080/",
     "height": 279
    },
    "id": "WqK38APVHCsM",
    "outputId": "b043f9e7-f3e2-4faf-cdd2-d02429477fb0"
   },
   "outputs": [
    {
     "data": {
      "image/png": "[encoded data removed]",
      "text/plain": [
       "<Figure size 432x288 with 1 Axes>"
      ]
     },
     "metadata": {
      "needs_background": "light"
     },
     "output_type": "display_data"
    }
   ],
   "source": [
    "# Store method accuracies and plot them with their method name\n",
    "\n",
    "method_acc = []\n",
    "for i in comparison_matrix.iloc[2:3,:].values:\n",
    "    method_acc.append(i)\n",
    "\n",
    "plt.plot(method_name, method_acc[0])\n",
    "plt.xlabel(\"Methods of Classifiaction\")\n",
    "plt.ylabel(\"Accuracies of Methods (%)\")\n",
    "plt.show()"
   ]
  },
  {
   "cell_type": "markdown",
   "metadata": {},
   "source": [
    "### 3.5 Making the model persistent\n",
    "\n",
    "Since SVM got the highest accuracy, the next step allows us to store the model in our machine so it'll be available. We can do it using joblib library."
   ]
  },
  {
   "cell_type": "code",
   "execution_count": 13,
   "metadata": {},
   "outputs": [
    {
     "data": {
      "text/plain": [
       "['models/model.joblib']"
      ]
     },
     "execution_count": 13,
     "metadata": {},
     "output_type": "execute_result"
    }
   ],
   "source": [
    "from joblib import dump\n",
    "from sklearn.pipeline import Pipeline\n",
    "from sklearn.preprocessing import StandardScaler\n",
    "\n",
    "pipe = Pipeline([('scaler', StandardScaler()), ('svm', svm)])\n",
    "pipe.fit(x, y)\n",
    "\n",
    "dump(pipe, 'models/model.joblib') "
   ]
  }
 ],
 "metadata": {
  "colab": {
   "name": "LowerBackPain.ipynb",
   "provenance": []
  },
  "kernelspec": {
   "display_name": "Python 3 (ipykernel)",
   "language": "python",
   "name": "python3"
  },
  "language_info": {
   "codemirror_mode": {
    "name": "ipython",
    "version": 3
   },
   "file_extension": ".py",
   "mimetype": "text/x-python",
   "name": "python",
   "nbconvert_exporter": "python",
   "pygments_lexer": "ipython3",
   "version": "3.10.4"
  },
  "vscode": {
   "interpreter": {
    "hash": "916dbcbb3f70747c44a77c7bcd40155683ae19c65e1c03b4aa3499c5328201f1"
   }
  }
 },
 "nbformat": 4,
 "nbformat_minor": 1
}
